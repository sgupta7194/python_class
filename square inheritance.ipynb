{
 "cells": [
  {
   "cell_type": "code",
   "execution_count": 1,
   "metadata": {
    "collapsed": false
   },
   "outputs": [
    {
     "name": "stdout",
     "output_type": "stream",
     "text": [
      "6\n",
      "12\n",
      "49\n",
      "98\n"
     ]
    }
   ],
   "source": [
    "class Rectangle():\n",
    "    \"\"\"rectangle\"\"\" \n",
    "    def __init__(self, length, breadth):\n",
    "        self.length=length\n",
    "        self.breadth=breadth\n",
    "    def findarea (self):\n",
    "        area = self.length*self.breadth\n",
    "        return area\n",
    "    def findperimeter (self):\n",
    "        perimeter = 2*(self.length * self.breadth)\n",
    "        return perimeter\n",
    "rectangl = Rectangle(2,3)\n",
    "a = rectangl.findarea()\n",
    "print(a)\n",
    "b = rectangl.findperimeter()\n",
    "print(b)\n",
    "\n",
    "\n",
    "class Square(Rectangle):\n",
    "    def __init__(self,length):\n",
    "        super().__init__(length,length)\n",
    "\n",
    "squ = Square(7)\n",
    "a = squ.findarea()\n",
    "print(a)\n",
    "b = squ.findperimeter()\n",
    "print(b)"
   ]
  },
  {
   "cell_type": "code",
   "execution_count": null,
   "metadata": {
    "collapsed": true
   },
   "outputs": [],
   "source": []
  }
 ],
 "metadata": {
  "kernelspec": {
   "display_name": "Python 3",
   "language": "python",
   "name": "python3"
  },
  "language_info": {
   "codemirror_mode": {
    "name": "ipython",
    "version": 3
   },
   "file_extension": ".py",
   "mimetype": "text/x-python",
   "name": "python",
   "nbconvert_exporter": "python",
   "pygments_lexer": "ipython3",
   "version": "3.5.2+"
  }
 },
 "nbformat": 4,
 "nbformat_minor": 0
}
