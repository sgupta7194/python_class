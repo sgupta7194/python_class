{
 "cells": [
  {
   "cell_type": "code",
   "execution_count": 2,
   "metadata": {
    "collapsed": false
   },
   "outputs": [
    {
     "name": "stdout",
     "output_type": "stream",
     "text": [
      "25\n",
      "20\n"
     ]
    }
   ],
   "source": [
    "class square():\n",
    "    \"\"\"A simple attempt to represent a square.\"\"\"\n",
    "    def __init__(self,side):\n",
    "        self.side = side\n",
    "    def findarea(self):\n",
    "        area = self.side*self.side\n",
    "        return area\n",
    "    def findperimeter(self):\n",
    "        perimeter = self.side*4\n",
    "        return perimeter\n",
    "sqre = square(5)\n",
    "are = sqre.findarea()\n",
    "print (are)\n",
    "pari = sqre.findperimeter()\n",
    "print (pari)\n"
   ]
  },
  {
   "cell_type": "code",
   "execution_count": null,
   "metadata": {
    "collapsed": true
   },
   "outputs": [],
   "source": []
  }
 ],
 "metadata": {
  "kernelspec": {
   "display_name": "Python 3",
   "language": "python",
   "name": "python3"
  },
  "language_info": {
   "codemirror_mode": {
    "name": "ipython",
    "version": 3
   },
   "file_extension": ".py",
   "mimetype": "text/x-python",
   "name": "python",
   "nbconvert_exporter": "python",
   "pygments_lexer": "ipython3",
   "version": "3.5.2+"
  }
 },
 "nbformat": 4,
 "nbformat_minor": 0
}
